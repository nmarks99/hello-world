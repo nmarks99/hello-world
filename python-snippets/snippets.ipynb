{
 "cells": [
  {
   "cell_type": "code",
   "execution_count": 1,
   "metadata": {},
   "outputs": [],
   "source": [
    "# Imports\n",
    "from matplotlib import pyplot as plt\n",
    "import random\n",
    "import numpy as np\n",
    "import math "
   ]
  },
  {
   "cell_type": "markdown",
   "metadata": {},
   "source": [
    "# Lists"
   ]
  },
  {
   "cell_type": "code",
   "execution_count": null,
   "metadata": {},
   "outputs": [],
   "source": [
    "# Compare every element in a list with every other element in that list\n",
    "# Print the indices that are equal in the given list. This can be easily modified for other uses\n",
    "mylist = [0,1,2,3,4,3,2]\n",
    "for i in range(len(mylist)):\n",
    "    for j in range(i + 1, len(mylist)):\n",
    "        if mylist[i] == mylist[j]:\n",
    "            print('index',i,'=','index',j)"
   ]
  },
  {
   "cell_type": "code",
   "execution_count": null,
   "metadata": {},
   "outputs": [],
   "source": [
    "def remove_duplicates(mylist):\n",
    "    '''\n",
    "    remove_duplicates(mylist) removes any duplicate elements from mylist and returns a new list with only the unique \n",
    "    elements from mylist\n",
    "    '''\n",
    "    new = []\n",
    "    [new.append(x) for x in mylist if not x in new] \n",
    "\n",
    "    return new\n"
   ]
  },
  {
   "cell_type": "markdown",
   "metadata": {},
   "source": [
    "# Strings"
   ]
  },
  {
   "cell_type": "code",
   "execution_count": null,
   "metadata": {},
   "outputs": [],
   "source": [
    "def lastn(string,n):\n",
    "    '''\n",
    "    lastn(string,num) returns the last n characters of a string\n",
    "    '''\n",
    "    assert( n <= len(string) ),'Number cannot be greater than string length'\n",
    "    res = string[-n::]\n",
    "    \n",
    "    return res\n"
   ]
  },
  {
   "cell_type": "markdown",
   "metadata": {},
   "source": [
    "# ASCII \n",
    "`chr()` returns the ascii character corresponding to the inputted number\n",
    "\n",
    "`ord()` returns the number corresponding to the inputted character"
   ]
  },
  {
   "cell_type": "code",
   "execution_count": null,
   "metadata": {},
   "outputs": [],
   "source": [
    "# Print ascii values\n",
    "for i in range(127):\n",
    "    if i%8 == 0:\n",
    "        print('\\n')\n",
    "    print('%d:%s \\t' %(i,chr(i)),end='')"
   ]
  },
  {
   "cell_type": "markdown",
   "metadata": {},
   "source": [
    "# Dictionaries and Sets"
   ]
  },
  {
   "cell_type": "code",
   "execution_count": null,
   "metadata": {},
   "outputs": [],
   "source": [
    "# Make an ascii dictionary\n",
    "asc_dict = dict()\n",
    "for i in range(128):\n",
    "    key = i\n",
    "    value = chr(i)\n",
    "    asc_dict[key] = value   # Use this form to add dictionary entries (key:value pairs)\n",
    "\n"
   ]
  },
  {
   "cell_type": "code",
   "execution_count": null,
   "metadata": {},
   "outputs": [],
   "source": [
    "# Adding values to a set (duplicates are omitted which is useful)\n",
    "mySet = set()\n",
    "numbers = np.random.randint(0,5, size=(10))\n",
    "for num in numbers:\n",
    "    mySet.add(num)\n",
    "print(mySet)"
   ]
  },
  {
   "cell_type": "markdown",
   "metadata": {},
   "source": [
    "# numpy\n"
   ]
  },
  {
   "cell_type": "code",
   "execution_count": null,
   "metadata": {},
   "outputs": [],
   "source": [
    "# np.arange(start,stop,step) - Return evenly spaced values within a given interval\n",
    "x = np.arange(0,10,.1)\n",
    "print(x)"
   ]
  },
  {
   "cell_type": "code",
   "execution_count": null,
   "metadata": {},
   "outputs": [],
   "source": [
    "# np.linspace(start,stop,numel) \n",
    "low = 0\n",
    "high = 10\n",
    "numel = 6\n",
    "a = np.linspace(low,high,numel,dtype=int)\n",
    "print(a)"
   ]
  },
  {
   "cell_type": "code",
   "execution_count": null,
   "metadata": {},
   "outputs": [],
   "source": [
    "# np.append(arr,value)\n",
    "a = np.zeros(10)\n",
    "a = np.append(a,4)  # np.append does not append to the original array but instead returns a copy\n",
    "print(a)"
   ]
  },
  {
   "cell_type": "code",
   "execution_count": null,
   "metadata": {},
   "outputs": [],
   "source": [
    "# Create an array of random decimals in a range and given size\n",
    "sampl = np.random.uniform(low=0.5, high=13.3, size=(10,))\n",
    "print(sampl)"
   ]
  },
  {
   "cell_type": "code",
   "execution_count": null,
   "metadata": {},
   "outputs": [],
   "source": [
    "# Create an array of random integers in a range (between 0 and two not including 2) and of a certain size\n",
    "arr1 = np.random.randint(0,2, size=(3, 3))  \n",
    "print(arr1)"
   ]
  },
  {
   "cell_type": "markdown",
   "metadata": {},
   "source": [
    "# matplotlib"
   ]
  },
  {
   "cell_type": "code",
   "execution_count": null,
   "metadata": {},
   "outputs": [],
   "source": [
    "# Plot a sine wave\n",
    "x = np.arange(-(2*math.pi),(2*math.pi),0.01)\n",
    "y1 = [math.sin(i) for i in x]\n",
    "y2 = [math.cos(i) for i in x]\n",
    "\n",
    "fig,ax = plt.subplots(figsize=(6,4))\n",
    "ax.plot(x,y1,'-r',label='sin(x)')\n",
    "ax.plot(x,y2,'-b',label='cos(x)')\n",
    "ax.set(title='sin(x) and cos(x)',xlabel='Radians')\n",
    "ax.grid()\n",
    "ax.legend()\n",
    "plt.show()\n"
   ]
  },
  {
   "cell_type": "markdown",
   "metadata": {},
   "source": [
    "# Reading files\n"
   ]
  },
  {
   "cell_type": "code",
   "execution_count": null,
   "metadata": {},
   "outputs": [],
   "source": [
    "# I like this way of doing this \n",
    "path = r\"C:\\Users\\nmark\\OneDrive\\Documents\\ME224\\LectureNotes\\majors.txt\"\n",
    "majors = \"\"\n",
    "with open(path) as file:\n",
    "    for m in file:\n",
    "        majors = majors + m\n",
    "    majors = majors.split('\\n')\n",
    "print(majors)"
   ]
  },
  {
   "cell_type": "markdown",
   "metadata": {},
   "source": [
    "# Miscellaneous"
   ]
  },
  {
   "cell_type": "code",
   "execution_count": null,
   "metadata": {},
   "outputs": [],
   "source": [
    "def get_data(datapath,datashape):\n",
    "    \"\"\"get_data() takes .txt data and correctly formats it in a numpy array\n",
    "    NOTE: \"filepath\" must be specified with an \"r\" in front, filepath = r'C:\\Owner\\...etc.' \"\"\"\n",
    "    \n",
    "    datastr = np.loadtxt(datapath,dtype='str',skiprows=8,delimiter='\\t')\n",
    "    data = np.zeros([datashape[1],datashape[0]])\n",
    "    [rows,cols] = np.shape(datastr)\n",
    "    for i in range(rows):\n",
    "        for j in range(cols):\n",
    "            if not datastr[i][j]:\n",
    "                data[i][j] = np.nan\n",
    "            else:\n",
    "                data[i][j] = float(datastr[i][j])\n",
    "    return data\n",
    "        \n"
   ]
  },
  {
   "cell_type": "code",
   "execution_count": 2,
   "metadata": {},
   "outputs": [],
   "source": [
    "def mav(x,y,num_avg): \n",
    "    '''\n",
    "    mav(x,y,num_avg) computes the moving average of the specified number of points\n",
    "    of the inputted y and returns it as the new x values and new y values as two lists.\n",
    "    '''\n",
    "    ynew = []\n",
    "    i = 0\n",
    "    while i < (len(y) - num_avg + 1):\n",
    "        reg = y[i:i+num_avg]\n",
    "        mav = sum(reg)/num_avg\n",
    "        ynew.append(mav)\n",
    "        i += 1\n",
    "\n",
    "    lost = (x[-1] - x[-num_avg])\n",
    "    xnew = np.linspace(0,x[-1] - lost,len(ynew))\n",
    "\n",
    "    return xnew,ynew"
   ]
  },
  {
   "cell_type": "markdown",
   "metadata": {},
   "source": [
    "# Tkinter"
   ]
  },
  {
   "cell_type": "code",
   "execution_count": null,
   "metadata": {},
   "outputs": [],
   "source": [
    "import tkinter \n",
    "import serial\n",
    "import time\n",
    "from tkinter import filedialog"
   ]
  },
  {
   "cell_type": "code",
   "execution_count": null,
   "metadata": {},
   "outputs": [],
   "source": [
    "# This is how you make a simple GUI with a text box and button\n",
    "\n",
    "root = tkinter.Tk()\n",
    "root.title('TEST')\n",
    "# root.iconbitmap(r'C:\\Users\\nmark\\Documents\\GitHub\\led-matrix-project\\Companion-App\\pyapp_icon.ico') \n",
    "root.geometry('400x150')\n",
    "    \n",
    "def get_msg():\n",
    "    e.delete(0,'end')\n",
    "    msg = e.get()\n",
    "    myLabel = tkinter.Label(root,text=msg)\n",
    "    e.delete(0,'end')\n",
    "    myLabel.pack(pady=10)\n",
    "\n",
    "e = tkinter.Entry(root, width=50, font=('Helvetica',30))\n",
    "e.pack(padx=10,pady=10)\n",
    "\n",
    "myButton = tkinter.Button(root, text='Enter',command=get_msg)\n",
    "myButton.pack(pady=10)\n",
    "\n",
    "root.mainloop()\n"
   ]
  },
  {
   "cell_type": "code",
   "execution_count": null,
   "metadata": {},
   "outputs": [],
   "source": [
    "# This is how you get a file path by opening a file explorer\n",
    "root = tkinter.Tk()\n",
    "root.withdraw()\n",
    "dataPath = filedialog.askopenfilename() # Ask user to select data\n",
    "print('\\n\\nPath to flight data: %s\\n' % dataPath)\n",
    "root.destroy()"
   ]
  }
 ],
 "metadata": {
  "interpreter": {
   "hash": "f0a6e35e9bb8b68e332f7236e9bb08965be7a42f997ca8df5b2713dcaaabb3cd"
  },
  "kernelspec": {
   "display_name": "Python 3.9.4 64-bit",
   "name": "python3"
  },
  "language_info": {
   "codemirror_mode": {
    "name": "ipython",
    "version": 3
   },
   "file_extension": ".py",
   "mimetype": "text/x-python",
   "name": "python",
   "nbconvert_exporter": "python",
   "pygments_lexer": "ipython3",
   "version": "3.9.4"
  },
  "metadata": {
   "interpreter": {
    "hash": "f0a6e35e9bb8b68e332f7236e9bb08965be7a42f997ca8df5b2713dcaaabb3cd"
   }
  },
  "orig_nbformat": 2
 },
 "nbformat": 4,
 "nbformat_minor": 2
}
