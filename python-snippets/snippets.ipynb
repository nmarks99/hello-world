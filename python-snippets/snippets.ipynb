{
 "metadata": {
  "language_info": {
   "codemirror_mode": {
    "name": "ipython",
    "version": 3
   },
   "file_extension": ".py",
   "mimetype": "text/x-python",
   "name": "python",
   "nbconvert_exporter": "python",
   "pygments_lexer": "ipython3",
   "version": "3.9.4"
  },
  "orig_nbformat": 2,
  "kernelspec": {
   "name": "python394jvsc74a57bd0f0a6e35e9bb8b68e332f7236e9bb08965be7a42f997ca8df5b2713dcaaabb3cd",
   "display_name": "Python 3.9.4 64-bit"
  },
  "metadata": {
   "interpreter": {
    "hash": "f0a6e35e9bb8b68e332f7236e9bb08965be7a42f997ca8df5b2713dcaaabb3cd"
   }
  }
 },
 "nbformat": 4,
 "nbformat_minor": 2,
 "cells": [
  {
   "cell_type": "code",
   "execution_count": 1,
   "metadata": {},
   "outputs": [],
   "source": [
    "# Imports\n",
    "from matplotlib import pyplot as plt\n",
    "import random\n",
    "import numpy as np\n",
    "import math "
   ]
  },
  {
   "source": [
    "# Lists"
   ],
   "cell_type": "markdown",
   "metadata": {}
  },
  {
   "cell_type": "code",
   "execution_count": null,
   "metadata": {},
   "outputs": [],
   "source": [
    "# Compare every element in a list with every other element in that list\n",
    "# Print the indices that are equal in the given list. This can be easily modified for other uses\n",
    "mylist = [0,1,2,3,4,3,2]\n",
    "for i in range(len(mylist)):\n",
    "    for j in range(i + 1, len(mylist)):\n",
    "        if mylist[i] == mylist[j]:\n",
    "            print('index',i,'=','index',j)"
   ]
  },
  {
   "cell_type": "code",
   "execution_count": null,
   "metadata": {},
   "outputs": [],
   "source": [
    "def remove_duplicates(mylist):\n",
    "    '''\n",
    "    remove_duplicates(mylist) removes any duplicate elements from mylist and returns a new list with only the unique \n",
    "    elements from mylist\n",
    "    '''\n",
    "    new = []\n",
    "    [new.append(x) for x in mylist if not x in new] \n",
    "\n",
    "    return new\n"
   ]
  },
  {
   "source": [
    "# Strings"
   ],
   "cell_type": "markdown",
   "metadata": {}
  },
  {
   "cell_type": "code",
   "execution_count": null,
   "metadata": {},
   "outputs": [],
   "source": [
    "def lastn(string,n):\n",
    "    '''\n",
    "    lastn(string,num) returns the last n characters of a string\n",
    "    '''\n",
    "    assert( n <= len(string) ),'Number cannot be greater than string length'\n",
    "    res = string[-n::]\n",
    "    \n",
    "    return res\n"
   ]
  },
  {
   "source": [
    "# ASCII \n",
    "`chr()` returns the ascii character corresponding to the inputted number\n",
    "\n",
    "`ord()` returns the number corresponding to the inputted character"
   ],
   "cell_type": "markdown",
   "metadata": {}
  },
  {
   "cell_type": "code",
   "execution_count": null,
   "metadata": {},
   "outputs": [],
   "source": [
    "# Print ascii values\n",
    "for i in range(127):\n",
    "    if i%8 == 0:\n",
    "        print('\\n')\n",
    "    print('%d:%s \\t' %(i,chr(i)),end='')"
   ]
  },
  {
   "source": [
    "# Dictionaries and Sets"
   ],
   "cell_type": "markdown",
   "metadata": {}
  },
  {
   "cell_type": "code",
   "execution_count": null,
   "metadata": {},
   "outputs": [],
   "source": [
    "# Make an ascii dictionary\n",
    "asc_dict = dict()\n",
    "for i in range(128):\n",
    "    key = i\n",
    "    value = chr(i)\n",
    "    asc_dict[key] = value   # Use this form to add dictionary entries (key:value pairs)\n",
    "\n"
   ]
  },
  {
   "cell_type": "code",
   "execution_count": null,
   "metadata": {},
   "outputs": [],
   "source": [
    "# Adding values to a set (duplicates are omitted which is useful)\n",
    "mySet = set()\n",
    "numbers = np.random.randint(0,5, size=(10))\n",
    "for num in numbers:\n",
    "    mySet.add(num)\n",
    "print(mySet)"
   ]
  },
  {
   "source": [
    "# numpy\n"
   ],
   "cell_type": "markdown",
   "metadata": {}
  },
  {
   "cell_type": "code",
   "execution_count": null,
   "metadata": {},
   "outputs": [],
   "source": [
    "# np.arange(start,stop,step) - Return evenly spaced values within a given interval\n",
    "x = np.arange(0,10,.1)\n",
    "print(x)"
   ]
  },
  {
   "cell_type": "code",
   "execution_count": null,
   "metadata": {},
   "outputs": [],
   "source": [
    "# np.append(arr,value)\n",
    "a = np.zeros(10)\n",
    "a = np.append(a,4)  # np.append does not append to the original array but instead returns a copy\n",
    "print(a)"
   ]
  },
  {
   "cell_type": "code",
   "execution_count": null,
   "metadata": {},
   "outputs": [],
   "source": [
    "# Create an array of random decimals in a range and given size\n",
    "sampl = np.random.uniform(low=0.5, high=13.3, size=(10,))\n",
    "print(sampl)"
   ]
  },
  {
   "cell_type": "code",
   "execution_count": null,
   "metadata": {},
   "outputs": [],
   "source": [
    "# Create an array of random integers in a range (between 0 and two not including 2) and of a certain size\n",
    "arr1 = np.random.randint(0,2, size=(3, 3))  \n",
    "print(arr1)"
   ]
  },
  {
   "cell_type": "code",
   "execution_count": null,
   "metadata": {},
   "outputs": [],
   "source": [
    "# np.linspace \n",
    "low = 0\n",
    "high = 10\n",
    "numel = 6\n",
    "a = np.linspace(low,high,numel,dtype=int)\n",
    "print(a)"
   ]
  },
  {
   "source": [
    "# matplotlib"
   ],
   "cell_type": "markdown",
   "metadata": {}
  },
  {
   "cell_type": "code",
   "execution_count": null,
   "metadata": {},
   "outputs": [],
   "source": [
    "# Plot a sine wave\n",
    "x = np.arange(-(2*math.pi),(2*math.pi),0.01)\n",
    "y1 = [math.sin(i) for i in x]\n",
    "y2 = [math.cos(i) for i in x]\n",
    "\n",
    "fig,ax = plt.subplots(figsize=(6,4))\n",
    "ax.plot(x,y1,'-r',label='sin(x)')\n",
    "ax.plot(x,y2,'-b',label='cos(x)')\n",
    "ax.set(title='sin(x) and cos(x)',xlabel='Radians')\n",
    "ax.grid()\n",
    "ax.legend()\n",
    "plt.show()\n"
   ]
  },
  {
   "cell_type": "code",
   "execution_count": null,
   "metadata": {},
   "outputs": [],
   "source": []
  },
  {
   "source": [
    "# Reading files\n"
   ],
   "cell_type": "markdown",
   "metadata": {}
  },
  {
   "cell_type": "code",
   "execution_count": null,
   "metadata": {},
   "outputs": [],
   "source": [
    "# I like this way of doing this \n",
    "path = r\"C:\\Users\\nmark\\OneDrive\\Documents\\ME224\\LectureNotes\\majors.txt\"\n",
    "majors = \"\"\n",
    "with open(path) as file:\n",
    "    for m in file:\n",
    "        majors = majors + m\n",
    "    majors = majors.split('\\n')\n",
    "print(majors)"
   ]
  },
  {
   "source": [
    "# Random"
   ],
   "cell_type": "markdown",
   "metadata": {}
  },
  {
   "cell_type": "code",
   "execution_count": null,
   "metadata": {},
   "outputs": [],
   "source": [
    "# randint(0,5) retruns a random integer between 0 and 6 including 0 and 5\n",
    "a = random.randint(0,5)\n",
    "print(a)"
   ]
  },
  {
   "cell_type": "code",
   "execution_count": null,
   "metadata": {},
   "outputs": [],
   "source": [
    "t = ('hi','world')\n",
    "b = (t[1],t[0])\n",
    "len(b)\n"
   ]
  },
  {
   "source": [
    "# Miscellaneous"
   ],
   "cell_type": "markdown",
   "metadata": {}
  },
  {
   "cell_type": "code",
   "execution_count": 2,
   "metadata": {},
   "outputs": [],
   "source": [
    "def get_data(datapath,datashape):\n",
    "    \"\"\"get_data() takes .txt data and correctly formats it in a numpy array\n",
    "    NOTE: \"filepath\" must be specified with an \"r\" in front, filepath = r'C:\\Owner\\...etc.' \"\"\"\n",
    "    \n",
    "    datastr = np.loadtxt(datapath,dtype='str',skiprows=8,delimiter='\\t')\n",
    "    data = np.zeros([datashape[1],datashape[0]])\n",
    "    [rows,cols] = np.shape(datastr)\n",
    "    for i in range(rows):\n",
    "        for j in range(cols):\n",
    "            if not datastr[i][j]:\n",
    "                data[i][j] = np.nan\n",
    "            else:\n",
    "                data[i][j] = float(datastr[i][j])\n",
    "    return data\n",
    "        \n"
   ]
  },
  {
   "cell_type": "code",
   "execution_count": 7,
   "metadata": {
    "tags": [
     "outputPrepend"
    ]
   },
   "outputs": [
    {
     "output_type": "stream",
     "name": "stdout",
     "text": [
      "    nan       nan       nan       nan       nan\n       nan       nan       nan  0.125878  0.117925  0.110111  0.102337\n  0.09455   0.086729  0.078879  0.071018  0.063172  0.055374  0.047657\n  0.040053  0.032597  0.025318  0.018249  0.01142   0.004864 -0.001383\n -0.007282 -0.01279  -0.017857 -0.02243  -0.026448 -0.029847 -0.032557\n -0.034507 -0.035625 -0.035839 -0.035083 -0.033295 -0.030425 -0.026434\n -0.021301 -0.015021 -0.007611  0.000888  0.010411  0.020868  0.032146\n  0.044109  0.056601  0.069457  0.082505  0.095579  0.108533  0.121254\n  0.133688  0.145859  0.1579         nan       nan       nan       nan\n       nan       nan       nan       nan       nan]\n[      nan       nan       nan       nan       nan       nan       nan\n       nan       nan  0.133122  0.125009  0.11721   0.109566  0.101981\n  0.094399  0.086798  0.079176  0.071548  0.063936  0.056367  0.04887\n  0.041475  0.034211  0.027108  0.020196  0.013504  0.007065  0.000917\n -0.004901 -0.010345 -0.015363 -0.019899 -0.023893 -0.027277 -0.029984\n -0.031939 -0.033073 -0.033314 -0.032598 -0.030865 -0.028069 -0.024175\n -0.019164 -0.013037 -0.005815  0.002459  0.011718  0.021871  0.032807\n  0.044394  0.056488  0.068937  0.081589  0.094307  0.10698   0.119545\n  0.132007  0.144462  0.157132       nan       nan       nan       nan\n       nan       nan       nan       nan       nan]\n[      nan       nan       nan       nan       nan       nan       nan\n       nan       nan  0.131514  0.123649  0.116113  0.108751  0.101463\n  0.094191  0.086909  0.079612  0.072306  0.06501   0.057745  0.050537\n  0.043411  0.036393  0.029513  0.022796  0.016275  0.009982  0.003955\n -0.001765 -0.007132 -0.012092 -0.016587 -0.020554 -0.023927 -0.026633\n -0.028601 -0.029759 -0.030037 -0.029374 -0.027711 -0.025006 -0.021228\n -0.016362 -0.010412 -0.003406  0.004611  0.013569  0.023376  0.033922\n  0.045081  0.056715  0.068687  0.080866  0.093139  0.105435  0.117735\n  0.130101  0.142705  0.155857       nan       nan       nan       nan\n       nan       nan       nan       nan       nan]\n[      nan       nan       nan       nan       nan       nan       nan\n       nan       nan  0.129318  0.121807  0.11464   0.107662  0.100769\n  0.093902  0.087029  0.080137  0.07323   0.066319  0.059421  0.052557\n  0.045749  0.039021  0.0324    0.025912  0.019588  0.013462  0.007574\n  0.001965 -0.003313 -0.008208 -0.012657 -0.016596 -0.019955 -0.022662\n -0.024645 -0.025831 -0.026153 -0.025548 -0.023965 -0.021361 -0.01771\n -0.013003 -0.007249 -0.000478  0.007259  0.015888  0.025317  0.035436\n  0.046123  0.05725   0.068689  0.08033   0.092088  0.103926  0.115871\n  0.128045  0.140691  0.154206       nan       nan       nan       nan\n       nan       nan       nan       nan       nan]\n[      nan       nan       nan       nan       nan       nan       nan\n       nan       nan  0.126514  0.11946   0.112759  0.106256  0.099846\n  0.093464  0.087073  0.080654  0.074206  0.067734  0.061251  0.054774\n  0.048321  0.041914  0.035579  0.029341  0.023233  0.017291  0.011553\n  0.006067  0.000884 -0.003938 -0.008335 -0.012241 -0.015583 -0.018289\n -0.020284 -0.021497 -0.021861 -0.021316 -0.019812 -0.017311 -0.013792\n -0.009249 -0.003698  0.002827  0.01027   0.018553  0.027583  0.03725\n  0.047435  0.058017  0.068883  0.079939  0.091127  0.102446  0.11397\n  0.125877  0.138484  0.152277       nan       nan       nan       nan\n       nan       nan       nan       nan       nan]\n[         nan          nan          nan          nan          nan\n          nan          nan          nan          nan  1.23056e-01\n  1.16552e-01  1.10405e-01  1.04458e-01  9.86030e-02  9.27710e-02\n  8.69190e-02  8.10250e-02  7.50790e-02  6.90850e-02  6.30490e-02\n  5.69850e-02  5.09100e-02  4.48430e-02  3.88090e-02  3.28350e-02\n  2.69540e-02  2.12030e-02  1.56240e-02  1.02670e-02  5.18600e-03\n  4.43000e-04 -3.89700e-03 -7.76300e-03 -1.10820e-02 -1.37790e-02\n -1.57790e-02 -1.70110e-02 -1.74090e-02 -1.69150e-02 -1.54830e-02\n -1.30790e-02 -9.68500e-03 -5.30300e-03  4.90000e-05  6.32800e-03\n  1.34740e-02  2.14070e-02  3.00290e-02  3.92310e-02  4.88960e-02\n  5.89120e-02  6.91760e-02  7.96150e-02  9.01980e-02  1.00957e-01\n  1.12013e-01  1.23605e-01  1.36120e-01  1.50135e-01          nan\n          nan          nan          nan          nan          nan\n          nan          nan          nan]\n[      nan       nan       nan       nan       nan       nan       nan\n       nan       nan       nan  0.113003  0.107486  0.102162  0.096919\n  0.091686  0.086414  0.081077  0.075662  0.070166  0.064594  0.058955\n  0.053266  0.047546  0.041818  0.03611   0.030458  0.024901  0.019483\n  0.014259  0.009284  0.004625  0.00035  -0.003468 -0.006753 -0.009429\n -0.01142  -0.012657 -0.013074 -0.012616 -0.011239 -0.008915 -0.005631\n -0.001394  0.003771  0.009816  0.016675  0.024263  0.03248   0.041216\n  0.050358  0.059799  0.069452  0.079259  0.089217  0.099394  0.109959\n  0.121209  0.133608  0.147822       nan       nan       nan       nan\n       nan       nan       nan       nan       nan]\n[      nan       nan       nan       nan       nan       nan       nan\n       nan       nan       nan  0.10871   0.10389   0.099241  0.094654\n  0.090052  0.085385  0.080622  0.075747  0.070755  0.065646  0.060431\n  0.055124  0.049743  0.044314  0.038867  0.033438  0.02807   0.022811\n  0.017719  0.012854  0.008284  0.004082  0.000323 -0.002914 -0.005553\n -0.007517 -0.008737 -0.00915  -0.008703 -0.007356 -0.005087 -0.001887\n  0.00223   0.007232  0.013066  0.019658  0.026919  0.034746  0.043029\n  0.051657  0.06053   0.069573  0.078749  0.08808   0.097674  0.107745\n  0.118653  0.130936  0.145355       nan       nan       nan       nan\n       nan       nan       nan       nan       nan]\n[         nan          nan          nan          nan          nan\n          nan          nan          nan          nan          nan\n  1.03552e-01  9.94860e-02  9.55570e-02  9.16560e-02  8.77040e-02\n  8.36500e-02  7.94630e-02  7.51230e-02  7.06230e-02  6.59650e-02\n  6.11560e-02  5.62130e-02  5.11540e-02  4.60060e-02  4.08030e-02\n  3.55840e-02  3.03950e-02  2.52890e-02  2.03250e-02  1.55700e-02\n  1.10950e-02  6.97500e-03  3.28900e-03  1.16000e-04 -2.46400e-03\n -4.37600e-03 -5.55200e-03 -5.93000e-03 -5.46200e-03 -4.11200e-03\n -1.86200e-03  1.28900e-03  5.32100e-03  1.01940e-02  1.58480e-02\n  2.22040e-02  2.91680e-02  3.66320e-02  4.44850e-02  5.26200e-02\n  6.09440e-02  6.93950e-02  7.79550e-02  8.66760e-02  9.57010e-02\n  1.05295e-01  1.15881e-01  1.28075e-01  1.42734e-01          nan\n          nan          nan          nan          nan          nan\n          nan          nan          nan]\n[      nan       nan       nan       nan       nan       nan       nan\n       nan       nan       nan  0.097396  0.094137  0.090964  0.087768\n  0.084474  0.081031  0.077407  0.073583  0.069552  0.065317  0.060886\n  0.056276  0.05151   0.046618  0.041635  0.036606  0.03158   0.026614\n  0.021773  0.017127  0.012751  0.008723  0.005126  0.002039 -0.000457\n -0.002288 -0.003386 -0.003693 -0.003165 -0.00177   0.000503  0.003648\n  0.007638  0.012426  0.017943  0.024104  0.030808  0.037945  0.045403\n  0.053078  0.060884  0.068771  0.076744  0.084883  0.093371  0.102524\n  0.112829  0.124984       nan       nan       nan       nan       nan\n       nan       nan       nan       nan       nan]\n[      nan       nan       nan       nan       nan       nan       nan\n       nan       nan       nan  0.090098  0.087701  0.085315  0.08284\n  0.080205  0.07736   0.074277  0.07094   0.067344  0.063493  0.059401\n  0.055086  0.050576  0.045904  0.04111   0.036244  0.03136   0.02652\n  0.021794  0.017255  0.012982  0.009057  0.005565  0.002587  0.000204\n -0.001512 -0.002493 -0.002687 -0.002053 -0.000566  0.00178   0.00497\n  0.008969  0.013721  0.01915   0.025163  0.031654  0.038509  0.045615\n  0.05287   0.060197  0.067561  0.074987  0.082586  0.090582  0.099345\n  0.109428  0.121614       nan       nan       nan       nan       nan\n       nan       nan       nan       nan       nan]\n[      nan       nan       nan       nan       nan       nan       nan\n       nan       nan       nan       nan  0.08003   0.07847   0.076732\n  0.074752  0.07249   0.069921  0.067036  0.063833  0.060322  0.056522\n  0.052456  0.048157  0.043664  0.039023  0.034289  0.029522  0.024791\n  0.020167  0.015732  0.011567  0.007757  0.004389  0.001546 -0.000694\n -0.002257 -0.00308  -0.003115 -0.002325 -0.000693  0.00178   0.005069\n  0.009133  0.013905  0.019301  0.02522   0.031549  0.038172  0.044973\n  0.051855  0.05875   0.065636  0.072563  0.079672  0.087232  0.095668\n  0.105603  0.117907       nan       nan       nan       nan       nan\n       nan       nan       nan       nan       nan]\n[      nan       nan       nan       nan       nan       nan       nan\n       nan       nan       nan       nan  0.07098   0.070292  0.069314\n  0.067994  0.066301  0.06422   0.061748  0.058895  0.055677  0.052118\n  0.048251  0.044115  0.039756  0.035229  0.030593  0.025916  0.021272\n  0.01674   0.012404  0.008351  0.004668  0.001443 -0.001239 -0.003302\n -0.004673 -0.005294 -0.00512  -0.004122 -0.002291  0.000365  0.003812\n  0.007998  0.012847  0.018267  0.024147  0.030368  0.036809  0.043357\n  0.049915  0.056426  0.062884  0.069363  0.076039  0.083226  0.091406\n  0.101278       nan       nan       nan       nan       nan       nan\n       nan       nan       nan       nan       nan]\n[      nan       nan       nan       nan       nan       nan       nan\n       nan       nan       nan       nan  0.060397  0.06065   0.060472\n  0.059828  0.0587    0.057087  0.054998  0.052454  0.049482  0.046115\n  0.042397  0.038375  0.034106  0.029651  0.025078  0.020464  0.015887\n  0.011434  0.007193  0.003255 -0.000289 -0.003351 -0.005847 -0.007698\n -0.008838 -0.009212 -0.008782 -0.007524 -0.005437 -0.002542  0.00112\n  0.005485  0.010468  0.015966  0.02186   0.028025  0.034335  0.040676\n  0.046958  0.053132  0.059211  0.065294  0.071594  0.078471  0.086472\n  0.096371       nan       nan       nan       nan       nan       nan\n       nan       nan       nan       nan       nan]\n[      nan       nan       nan       nan       nan       nan       nan\n       nan       nan       nan       nan       nan  0.049412  0.050101\n  0.05017   0.049622  0.048472  0.046748  0.044482  0.041717  0.038501\n  0.034886  0.030935  0.026712  0.02229   0.017748  0.013168  0.00864\n  0.004253  0.000103 -0.003716 -0.007111 -0.009991 -0.012272 -0.013881\n -0.014752 -0.014836 -0.014102 -0.012534 -0.010141 -0.006953 -0.003023\n  0.001574  0.006742  0.012367  0.018323  0.024477  0.030699  0.036876\n  0.042922  0.0488    0.054542  0.060276  0.066251  0.072881  0.080776\n       nan       nan       nan       nan       nan       nan       nan\n       nan       nan       nan       nan       nan]\n[      nan       nan       nan       nan       nan       nan       nan\n       nan       nan       nan       nan       nan  0.036432  0.038093\n  0.038947  0.039022  0.038357  0.036998  0.034999  0.032418  0.029321\n  0.025777  0.021859  0.017648  0.013227  0.008686  0.004118 -0.00038\n -0.004711 -0.008774 -0.01247  -0.015703 -0.018383 -0.020427 -0.021763\n -0.02233  -0.022086 -0.021005 -0.019084 -0.016339 -0.012813 -0.00857\n -0.003697  0.001698  0.007491  0.013545  0.019722  0.025887  0.031929\n  0.037767  0.043378  0.048815  0.054233  0.059927  0.066361  0.074218\n       nan       nan       nan       nan       nan       nan       nan\n       nan       nan       nan       nan       nan]\n[      nan       nan       nan       nan       nan       nan       nan\n       nan       nan       nan       nan       nan       nan  0.024325\n  0.026083  0.026865  0.02674   0.025779  0.024061  0.021665  0.018677\n  0.015185  0.01128   0.007057  0.002615 -0.001944 -0.006517 -0.010998\n -0.01528  -0.019256 -0.022825 -0.025886 -0.028351 -0.030136 -0.031172\n -0.031406 -0.030801 -0.029341 -0.02703  -0.023898 -0.019999 -0.01541\n -0.01023  -0.004581  0.001403  0.007576  0.013792  0.019915  0.025833\n  0.031474  0.036828  0.04197   0.047091  0.052528  0.058804       nan\n       nan       nan       nan       nan       nan       nan       nan\n       nan       nan       nan       nan       nan]\n[      nan       nan       nan       nan       nan       nan       nan\n       nan       nan       nan       nan       nan       nan       nan\n  0.011477  0.013105  0.013623  0.013136  0.011749  0.009571  0.006711\n  0.003279 -0.000613 -0.004852 -0.009323 -0.01391  -0.018495 -0.022962\n -0.027196 -0.031084 -0.034519 -0.037399 -0.039634 -0.041142 -0.04186\n -0.041739 -0.04075  -0.038886 -0.036163 -0.032622 -0.028331 -0.02338\n -0.017882 -0.01197  -0.005791  0.000499  0.006748  0.012818  0.018599\n  0.024027  0.029109  0.033944  0.038759  0.043939  0.050071       nan\n       nan       nan       nan       nan       nan       nan       nan\n       nan       nan       nan       nan       nan]\n[      nan       nan       nan       nan       nan       nan       nan\n       nan       nan       nan       nan       nan       nan       nan\n -0.005021 -0.002341 -0.001014 -0.000898 -0.001852 -0.003736 -0.006412\n -0.009743 -0.013594 -0.01783  -0.022316 -0.026919 -0.031509 -0.035957\n -0.040136 -0.043929 -0.047221 -0.04991  -0.051903 -0.053124 -0.053511\n -0.053022 -0.051637 -0.04936  -0.046217 -0.042265 -0.037583 -0.032275\n -0.02647  -0.020314 -0.013965 -0.007588 -0.001341  0.004634  0.010232\n  0.015399  0.02016   0.024642  0.029111  0.034003       nan       nan\n       nan       nan       nan       nan       nan       nan       nan\n       nan       nan       nan       nan       nan]\n[      nan       nan       nan       nan       nan       nan       nan\n       nan       nan       nan       nan       nan       nan       nan\n       nan -0.019626 -0.017248 -0.016329 -0.016687 -0.018146 -0.020532\n -0.023679 -0.027422 -0.031602 -0.036062 -0.04065  -0.045219 -0.049625\n -0.053733 -0.057415 -0.060552 -0.063039 -0.064783 -0.065709 -0.065761\n -0.064904 -0.063126 -0.060443 -0.056895 -0.05255  -0.047502 -0.041872\n -0.035802 -0.02945  -0.022989 -0.01659  -0.01042  -0.004619  0.000711\n  0.005529  0.009879  0.013921  0.01796        nan       nan       nan\n       nan       nan       nan       nan       nan       nan       nan\n       nan       nan       nan       nan       nan]\n[      nan       nan       nan       nan       nan       nan       nan\n       nan       nan       nan       nan       nan       nan       nan\n       nan       nan -0.035251 -0.033244 -0.032768 -0.033601 -0.035531\n -0.038355 -0.041877 -0.045907 -0.050265 -0.054775 -0.059272 -0.063596\n -0.0676   -0.071147 -0.074111 -0.076384 -0.077872 -0.078504 -0.078227\n -0.077014 -0.074865 -0.071805 -0.067888 -0.063196 -0.057839 -0.051952\n -0.045693 -0.039234 -0.032758 -0.026448 -0.020471 -0.014971 -0.010042\n -0.005712 -0.001912  0.001549       nan       nan       nan       nan\n       nan       nan       nan       nan       nan       nan       nan\n       nan       nan       nan       nan       nan]\n[      nan       nan       nan       nan       nan       nan       nan\n       nan       nan       nan       nan       nan       nan       nan\n       nan       nan       nan -0.051864 -0.05022  -0.050144 -0.051377\n -0.053674 -0.056801 -0.060538 -0.064672 -0.069005 -0.073348 -0.077526\n -0.081375 -0.084748 -0.087512 -0.089556 -0.090784 -0.091128 -0.09054\n -0.089001 -0.08652  -0.083135 -0.078914 -0.073953 -0.068378 -0.06234\n -0.056011 -0.049577 -0.043233 -0.037169 -0.031558 -0.02654  -0.022202\n -0.018556 -0.015506       nan       nan       nan       nan       nan\n       nan       nan       nan       nan       nan       nan       nan\n       nan       nan       nan       nan       nan]\n[      nan       nan       nan       nan       nan       nan       nan\n       nan       nan       nan       nan       nan       nan       nan\n       nan       nan       nan       nan -0.069345 -0.067976 -0.06818\n -0.069665 -0.072155 -0.075391 -0.079128 -0.083138 -0.087208 -0.091142\n -0.094761 -0.097905 -0.100433 -0.102227 -0.103192 -0.103261 -0.102392\n -0.100572 -0.097822 -0.094192 -0.089762 -0.084647 -0.078986 -0.072946\n -0.066714 -0.060491 -0.05448  -0.04888  -0.043867 -0.039576 -0.036086\n -0.033387       nan       nan       nan       nan       nan       nan\n       nan       nan       nan       nan       nan       nan       nan\n       nan       nan       nan       nan       nan]\n[      nan       nan       nan       nan       nan       nan       nan\n       nan       nan       nan       nan       nan       nan       nan\n       nan       nan       nan       nan       nan -0.087527 -0.086264\n -0.086558 -0.088083 -0.090537 -0.093637 -0.097123 -0.100754 -0.10431\n -0.107593 -0.110429 -0.112668 -0.114185 -0.114884 -0.114697 -0.113588\n -0.111552 -0.10862  -0.104853 -0.100348 -0.095233 -0.089663 -0.083821\n -0.077909 -0.072139 -0.066727 -0.061876 -0.057762 -0.054518 -0.052206\n       nan       nan       nan       nan       nan       nan       nan\n       nan       nan       nan       nan       nan       nan       nan\n       nan       nan       nan       nan       nan]\n[      nan       nan       nan       nan       nan       nan       nan\n       nan       nan       nan       nan       nan       nan       nan\n       nan       nan       nan       nan       nan       nan       nan\n -0.104856 -0.104987 -0.106289 -0.108437 -0.111131 -0.114099 -0.117096\n -0.119901 -0.122324 -0.124202 -0.125403 -0.125828 -0.12541  -0.124115\n -0.121948 -0.118946 -0.115186 -0.110777 -0.105861 -0.100611 -0.095224\n -0.089915 -0.084909 -0.080431 -0.076687 -0.073855 -0.072057       nan\n       nan       nan       nan       nan       nan       nan       nan\n       nan       nan       nan       nan       nan       nan       nan\n       nan       nan       nan       nan       nan]\n[      nan       nan       nan       nan       nan       nan       nan\n       nan       nan       nan       nan       nan       nan       nan\n       nan       nan       nan       nan       nan       nan       nan\n       nan       nan -0.1233   -0.124087 -0.125643 -0.127659 -0.129859\n -0.131999 -0.133868 -0.135289 -0.136121 -0.136259 -0.135636 -0.134222\n -0.132026 -0.129096 -0.12552  -0.12142  -0.116953 -0.112307 -0.107692\n -0.103339 -0.099481 -0.096351 -0.094158       nan       nan       nan\n       nan       nan       nan       nan       nan       nan       nan\n       nan       nan       nan       nan       nan       nan       nan\n       nan       nan       nan       nan       nan]\n[      nan       nan       nan       nan       nan       nan       nan\n       nan       nan       nan       nan       nan       nan       nan\n       nan       nan       nan       nan       nan       nan       nan\n       nan       nan       nan       nan -0.141553 -0.142248 -0.143348\n -0.14458  -0.145711 -0.146548 -0.146937 -0.146766 -0.145966 -0.144507\n -0.142405 -0.139717 -0.136539 -0.133007 -0.129292 -0.125594 -0.122139\n -0.119167 -0.116922       nan       nan       nan       nan       nan\n       nan       nan       nan       nan       nan       nan       nan\n       nan       nan       nan       nan       nan       nan       nan\n       nan       nan       nan       nan       nan]\n[      nan       nan       nan       nan       nan       nan       nan\n       nan       nan       nan       nan       nan       nan       nan\n       nan       nan       nan       nan       nan       nan       nan\n       nan       nan       nan       nan       nan       nan       nan\n -0.158829 -0.158988 -0.159074 -0.158919 -0.158402 -0.157448 -0.156029\n -0.154164 -0.151914 -0.149388 -0.14673  -0.144125 -0.141786       nan\n       nan       nan       nan       nan       nan       nan       nan\n       nan       nan       nan       nan       nan       nan       nan\n       nan       nan       nan       nan       nan       nan       nan\n       nan       nan       nan       nan       nan]\n[nan nan nan nan nan nan nan nan nan nan nan nan nan nan nan nan nan nan\n nan nan nan nan nan nan nan nan nan nan nan nan nan nan nan nan nan nan\n nan nan nan nan nan nan nan nan nan nan nan nan nan nan nan nan nan nan\n nan nan nan nan nan nan nan nan nan nan nan nan nan nan]\n"
     ]
    }
   ],
   "source": [
    "path = r\"C:\\Users\\nmark\\OneDrive\\Documents\\ME224\\6200.txt\"\n",
    "data = get_data(path,(68,50))\n",
    "for i in data:\n",
    "    print(i)"
   ]
  },
  {
   "cell_type": "code",
   "execution_count": null,
   "metadata": {},
   "outputs": [],
   "source": []
  }
 ]
}